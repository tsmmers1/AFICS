{
 "cells": [
  {
   "cell_type": "code",
   "execution_count": 1,
   "metadata": {},
   "outputs": [],
   "source": [
    "from ase.io import read\n",
    "from collections import defaultdict\n",
    "import numpy as np"
   ]
  },
  {
   "cell_type": "code",
   "execution_count": 2,
   "metadata": {},
   "outputs": [],
   "source": [
    "#Read in xyz trajectory\n",
    "traj = read(\"test-traj.xyz\", format=\"xyz\", index=':') #https://wiki.fysik.dtu.dk/ase/ase/io/io.html\n",
    "\n",
    "#Also be able to ready in PDB / GRO / ?"
   ]
  },
  {
   "cell_type": "code",
   "execution_count": null,
   "metadata": {},
   "outputs": [],
   "source": [
    "#Trajectories will be read in as a list of ASE Atoms units\n",
    "traj\n",
    "#Single structs will be a single ASE Atoms unit -- differentiate between them?"
   ]
  },
  {
   "cell_type": "code",
   "execution_count": 5,
   "metadata": {},
   "outputs": [
    {
     "name": "stdout",
     "output_type": "stream",
     "text": [
      "[0] [1, 2, 13, 14, 15, 16, 17, 18, 19, 20, 33, 36, 39]\n"
     ]
    }
   ],
   "source": [
    "# Get central ion ID\n",
    "# User can provide:\n",
    "#                 Element\n",
    "#                 Atom Index\n",
    "# Can also be MORE THAN ONE Element/Atom Index\n",
    "metal_ids, element_ids = [], []\n",
    "metals = [\"Eu\"]\n",
    "elements = ['O','N']\n",
    "\n",
    "\n",
    "for i,x in enumerate(traj[0]):\n",
    "    if x.symbol in metals: \n",
    "        metal_ids.append(i)\n",
    "    elif x.symbol in elements: \n",
    "        element_ids.append(i)\n",
    "print(metal_ids, element_ids)"
   ]
  },
  {
   "cell_type": "code",
   "execution_count": 46,
   "metadata": {},
   "outputs": [
    {
     "name": "stdout",
     "output_type": "stream",
     "text": [
      "defaultdict(<class 'set'>, {0: {1, 2, 13, 14, 15, 16, 17, 18, 19, 20, 33, 36, 39}})\n"
     ]
    }
   ],
   "source": [
    "#Calculate RDF between ions and elements of interest\n",
    "traj_nearby_ids_set = defaultdict(set)\n",
    "rdf_frames = []\n",
    "rdf_int_frames = []\n",
    "rdf_max = 6.0 # Angstroms\n",
    "shell_max = 5.0 # Angstroms - to help shorten first-shell geometry analyses, store only atom IDs that ever occur within 5A of metal\n",
    "bin_width = 0.02\n",
    "bin_range = np.arange(0, rdf_max+bin_width, bin_width)\n",
    "\n",
    "for frame in traj:\n",
    "    for metal_id in metal_ids:\n",
    "\n",
    "        f_dists = frame.get_distances(metal_id, element_ids)\n",
    "\n",
    "        ### To save time later, keep indices of atoms that enter first shell over traj\n",
    "        near_ids_frame = [element_ids[x] for x in (f_dists<shell_max).nonzero()[0]]\n",
    "        traj_nearby_ids_set[metal_id] |= set(near_ids_frame)\n",
    "\n",
    "        bin_counts = np.bincount(np.searchsorted(bin_range, f_dists, side=\"left\"))  # this bins the distances to bin_range \n",
    "                                                                                    # bin_counts[0] will be dists less than 0 (presumably none)\n",
    "                                                                                    # bin_counts[-1] will either be the number of dists > rdf_max (if there are any) or \n",
    "                                                                                    #                                   count of dists <= a value less than rdf_max (will need padding)\n",
    "        if len(bin_counts) == len(bin_range)+1: #case where there are dists > rdf_max\n",
    "            bins = bin_counts[1:-1] # ignore bin_counts[0] and ignore counts of elements greater than rdf_max\n",
    "            rdf_int_frames.append(np.cumsum(bins).copy())\n",
    "        else:\n",
    "            bins = bin_counts[1:] # ignore bin_counts[0] -- will need to pad with zeros to complete bin range\n",
    "            rdf_int_frames.append(np.pad(np.cumsum(bins), (0, len(bin_range)-len(bins)), \"edge\").copy())\n",
    "        \n",
    "        dists_count = sum(bins)\n",
    "        density_A = 1.0 / (4.0/3.0 * np.pi * np.power(rdf_max, 3))\n",
    "        bins = 1 / (density_A*dists_count)*bins / (4.0*np.pi*np.arange(1,len(bins)+1,1)**2 * bin_width**3)\n",
    "\n",
    "        if len(bins) < len(bin_range):\n",
    "            rdf_frames.append(np.pad(bins, (0, len(bin_range)-len(bins)), \"constant\").copy())\n",
    "        else:\n",
    "            rdf_frames.append(bins.copy())\n",
    "\n",
    "rdf = np.mean(rdf_frames, axis=0) #Calculate RDF of trajectory\n",
    "rdf_int = np.mean(rdf_int_frames, axis=0) #Calculate integral of RDF of trajectory\n",
    "\n",
    "#print(traj_nearby_ids_set)\n",
    "\n",
    "#for i,j in enumerate(bin_range):\n",
    "#    print(f'{j}\\t{rdf[i]}\\t{rdf_int[i]}')\n"
   ]
  },
  {
   "cell_type": "code",
   "execution_count": null,
   "metadata": {},
   "outputs": [],
   "source": []
  }
 ],
 "metadata": {
  "kernelspec": {
   "display_name": "Python 3",
   "language": "python",
   "name": "python3"
  },
  "language_info": {
   "codemirror_mode": {
    "name": "ipython",
    "version": 3
   },
   "file_extension": ".py",
   "mimetype": "text/x-python",
   "name": "python",
   "nbconvert_exporter": "python",
   "pygments_lexer": "ipython3",
   "version": "3.13.0"
  }
 },
 "nbformat": 4,
 "nbformat_minor": 2
}
